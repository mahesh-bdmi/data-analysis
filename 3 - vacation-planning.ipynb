{
 "cells": [
  {
   "cell_type": "markdown",
   "metadata": {},
   "source": [
    "## Exercise - Data Analysis for Vacation Planning\n",
    "\n",
    "You're planning a vacation, and you need to decide which city you want to visit. You have shortlisted four cities and identified the return flight cost, daily hotel cost, and weekly car rental cost. While renting a car, you need to pay for entire weeks, even if you return the car sooner.\n",
    "\n",
    "\n",
    "| City | Return Flight (`$`) | Hotel per day (`$`) | Weekly Car Rental  (`$`) | \n",
    "|------|--------------------------|------------------|------------------------|\n",
    "| Paris|       200                |       20         |          200           |\n",
    "| London|      250                |       30         |          120           |\n",
    "| Dubai|       370                |       15         |          80           |\n",
    "| Mumbai|      450                |       10         |          70           |         \n",
    "\n",
    "\n",
    "Answer the following questions using the data above:\n",
    "\n",
    "1. If you're planning a 1-week long trip, which city should you visit to spend the least amount of money?\n",
    "2. How does the answer to the previous question change if you change the trip's duration to four days, ten days or two weeks?\n",
    "3. If your total budget for the trip is `$1000`, which city should you visit to maximize the duration of your trip? Which city should you visit if you want to minimize the duration?\n",
    "4. How does the answer to the previous question change if your budget is `$600`, `$2000`, or `$1500`?\n",
    "\n",
    "*Hint: To answer these questions, it will help to define a function `cost_of_trip` with relevant inputs like flight cost, hotel rate, car rental rate, and duration of the trip. You may find the `math.ceil` function useful for calculating the total cost of car rental.*"
   ]
  },
  {
   "cell_type": "code",
   "execution_count": null,
   "metadata": {},
   "outputs": [],
   "source": [
    "import math\n",
    "\n",
    "def trip_calculator(flight_cost,hotel_cost,car_rental_cost, duration,city):\n",
    "  return [city,flight_cost + hotel_cost * duration  + car_rental_cost * math.ceil(duration/7)]\n",
    "\n",
    "paris = trip_calculator(200,20,200,7,\"Paris\")\n",
    "london = trip_calculator(250,30,120,7,\"London\")\n",
    "dubai = trip_calculator(370,15,80,7,\"Dubai\")\n",
    "mumbai = trip_calculator(450,10,70,7,\"Mumbai\")\n"
   ]
  }
 ],
 "metadata": {
  "kernelspec": {
   "display_name": "Python 3.10.8 64-bit (microsoft store)",
   "language": "python",
   "name": "python3"
  },
  "language_info": {
   "codemirror_mode": {
    "name": "ipython",
    "version": 3
   },
   "file_extension": ".py",
   "mimetype": "text/x-python",
   "name": "python",
   "nbconvert_exporter": "python",
   "pygments_lexer": "ipython3",
   "version": "3.10.8"
  },
  "orig_nbformat": 4,
  "vscode": {
   "interpreter": {
    "hash": "882065b0672ca690571311c903c57a5e9f1cf1905c10ca9c2c5f4f1d68ec3fc9"
   }
  }
 },
 "nbformat": 4,
 "nbformat_minor": 2
}
